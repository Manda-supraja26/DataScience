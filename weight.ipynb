{
 "cells": [
  {
   "cell_type": "code",
   "execution_count": 6,
   "id": "62d69afc",
   "metadata": {},
   "outputs": [],
   "source": [
    "#!/usr/bin/env python\n",
    "# coding: utf-8\n",
    "\n",
    "# In[1]:\n",
    "\n",
    "\n",
    "import tkinter as tk\n",
    "from tkinter import*\n",
    "\n",
    "\n",
    "# In[2]:\n",
    "\n",
    "\n",
    "root = Tk()\n",
    "\n",
    "\n",
    "# In[3]:\n",
    "\n",
    "\n",
    "root.geometry('500x400')\n",
    "\n",
    "\n",
    "# In[ ]:\n",
    "\n",
    "\n",
    "\n",
    "\n",
    "\n",
    "# In[4]:\n",
    "\n",
    "\n",
    "def login():\n",
    "    a=\"anshu\"\n",
    "    b=\"anshu123\"\n",
    "    x = u.get()\n",
    "    y = p.get()\n",
    "    if(x==a and y==b):\n",
    "        Label(root,text='Login Successful').pack(side='top')\n",
    "    else:\n",
    "        Label(root,text='Invalid Credentials').pack(side=\"top\")\n",
    "\n",
    "title = Label(root,text=\"LOGIN PAGE\").place(x=250,y=10)\n",
    "user_name=Label(root,text=\"Username\").place(x=40,y=60)\n",
    "password = Label(root,text=\"password\").place(x=40,y=100)\n",
    "submit = Button(root,text=\"SUBMIT\",bd=10,command=login).place(x=250,y=300)\n",
    "u = StringVar()\n",
    "uname_input = Entry(root,width=30,textvariable=u).place(x=150,y=60)\n",
    "p = StringVar()\n",
    "pwd_input = Entry(root,width=30,textvariable=p).place(x=150,y=100)\n",
    "\n",
    "\n",
    "# In[ ]:\n",
    "\n",
    "\n",
    "root.mainloop()\n",
    "\n"
   ]
  },
  {
   "cell_type": "code",
   "execution_count": null,
   "id": "e9574339",
   "metadata": {},
   "outputs": [],
   "source": []
  },
  {
   "cell_type": "code",
   "execution_count": null,
   "id": "d6d742ae",
   "metadata": {},
   "outputs": [],
   "source": []
  }
 ],
 "metadata": {
  "kernelspec": {
   "display_name": "Python 3 (ipykernel)",
   "language": "python",
   "name": "python3"
  },
  "language_info": {
   "codemirror_mode": {
    "name": "ipython",
    "version": 3
   },
   "file_extension": ".py",
   "mimetype": "text/x-python",
   "name": "python",
   "nbconvert_exporter": "python",
   "pygments_lexer": "ipython3",
   "version": "3.9.12"
  }
 },
 "nbformat": 4,
 "nbformat_minor": 5
}
