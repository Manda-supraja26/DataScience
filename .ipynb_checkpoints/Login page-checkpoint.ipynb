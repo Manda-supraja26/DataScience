{
 "cells": [
  {
   "cell_type": "code",
   "execution_count": 4,
   "id": "3ce5442b",
   "metadata": {},
   "outputs": [],
   "source": [
    "from tkinter import *"
   ]
  },
  {
   "cell_type": "code",
   "execution_count": 5,
   "id": "06334cb7",
   "metadata": {},
   "outputs": [],
   "source": [
    "root=Tk()"
   ]
  },
  {
   "cell_type": "code",
   "execution_count": 47,
   "id": "e0ed91cb",
   "metadata": {},
   "outputs": [],
   "source": [
    "root=Tk()\n",
    "\n",
    "def check():\n",
    "    name=\"supraja\"\n",
    "    password=\"supraja12345\"\n",
    "    x=u.get()\n",
    "    y=p.get()\n",
    "    if name==x and y==password:\n",
    "        Label(root,text=\"Congratulation Login Succes\",fg=\"green\").pack(side='top')\n",
    "        \n",
    "    else:\n",
    "        Label(root,text=\"INVALID PASSWORD OR USERNAME\",fg=\"red\").pack(side='top')\n",
    "        \n",
    "\n",
    "\n",
    "\n",
    "root.geometry('600x600')\n",
    "root.title(\"LOGIN PAGE\")\n",
    "u_label=Label(root,text=\"UserName\").place(x=150,y=160)\n",
    "p_label=Label(root,text=\"Password\").place(x=150,y=200)\n",
    "title=Label(root,text=\"LOGIN TO YOUR ACCOUNT\").place(x=250,y=50)\n",
    "u=StringVar()\n",
    "p=StringVar()\n",
    "user_input=Entry(root,width=30,textvariable=u).place(x=300,y=160)\n",
    "pass_input=Entry(root,width=30,textvariable=p).place(x=300,y=200)\n",
    "button=Button(root,text=\"SUBMIT\",bd=10,command=check).place(x=250,y=300)\n",
    "root.mainloop()"
   ]
  },
  {
   "cell_type": "code",
   "execution_count": null,
   "id": "5c4af94d",
   "metadata": {},
   "outputs": [],
   "source": []
  },
  {
   "cell_type": "code",
   "execution_count": null,
   "id": "01058233",
   "metadata": {},
   "outputs": [],
   "source": []
  }
 ],
 "metadata": {
  "kernelspec": {
   "display_name": "Python 3 (ipykernel)",
   "language": "python",
   "name": "python3"
  },
  "language_info": {
   "codemirror_mode": {
    "name": "ipython",
    "version": 3
   },
   "file_extension": ".py",
   "mimetype": "text/x-python",
   "name": "python",
   "nbconvert_exporter": "python",
   "pygments_lexer": "ipython3",
   "version": "3.9.12"
  }
 },
 "nbformat": 4,
 "nbformat_minor": 5
}
