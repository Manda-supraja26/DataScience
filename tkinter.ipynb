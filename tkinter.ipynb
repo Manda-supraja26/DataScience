{
 "cells": [
  {
   "cell_type": "markdown",
   "id": "03cc731d",
   "metadata": {},
   "source": [
    "TKINTER \n",
    "* is is usefull for Graphical User Interface\n",
    "* we are using python gui windows \n",
    "* user interface\n",
    "* web frameworks\n",
    "* flask\n",
    "* django\n",
    "* TKINTER\n"
   ]
  },
  {
   "cell_type": "markdown",
   "id": "2724519e",
   "metadata": {},
   "source": [
    "WHAT IS TKINTER?\n",
    "* it is embeded with python its self\n",
    "* we can import it through library\n",
    "* for GuI\n",
    "* "
   ]
  },
  {
   "cell_type": "markdown",
   "id": "1d37cd29",
   "metadata": {},
   "source": [
    "FLOW IN TKINTER"
   ]
  },
  {
   "cell_type": "code",
   "execution_count": 3,
   "id": "a8fb04ef",
   "metadata": {},
   "outputs": [],
   "source": [
    "# import tkinter module\n",
    "# create main window\n",
    "# root=Tk()\n",
    "# add as many widgets as you want"
   ]
  },
  {
   "cell_type": "code",
   "execution_count": 9,
   "id": "6f0329d3",
   "metadata": {},
   "outputs": [],
   "source": [
    "from tkinter import *\n",
    "root=Tk()\n",
    "root.geometry('500x200')# it is for size of image\n",
    "root.title(\"supraja gui\") #it is for the naming the window\n",
    "\n",
    "\n",
    "\n",
    "# code for your GUI\n",
    "\n",
    "\n",
    "\n",
    "# b1=Button(pane,text=\"click me\")\n",
    "# b1.pack(fill=BOTH,expand=True)\n",
    "\n",
    "\n",
    "root.mainloop()"
   ]
  },
  {
   "cell_type": "markdown",
   "id": "7de50836",
   "metadata": {},
   "source": [
    "# GEOMENTRY MANAGEMENT\n",
    "\n",
    "# pack()\n",
    "    HERE ALLL ARE PACKED,PUTS AS THE IT COMES\n",
    "# grid()\n",
    "    THE WINDOW IS DIVIDED INTO BLOCKS AND WE PLACE THE WIDGETS IN THE BLOCK\n",
    "# place()\n",
    "    IT CONSIDERS AS THE WINDOW AS 2D PLANE , ACCORDING TO THE VALUE OF X AND VALUE OF Y WE PLACE THE WIDGETS\n",
    "    "
   ]
  },
  {
   "cell_type": "markdown",
   "id": "f566fafd",
   "metadata": {},
   "source": [
    "# PLACE() METHOD\n",
    "    widget.place(relx=0.5,rely=0.5,anchor=CENTER)\n",
    "                    # OR\n",
    "    WIDGET.PLACE(X=0.5,Y=0.5,ANCHOR=CENTER)\n",
    "# GRID()\n",
    "       c1=checkbutton(master,text=\"preserve\")\n",
    "       c1.grid(row=2,column=0,stickyw,columnspan=2,pady=2)\n",
    "       \n",
    "       \n",
    "       padx-- adding pixel to x axis\n",
    "       pady-- adding pixel to y axis\n"
   ]
  },
  {
   "cell_type": "markdown",
   "id": "f8c98989",
   "metadata": {},
   "source": [
    "# pack()\n",
    "        b1=Button(pane,text=\"click me\")\n",
    "        b1.pack(fill=BOTH,expand=True)"
   ]
  },
  {
   "cell_type": "markdown",
   "id": "d4ffd0c7",
   "metadata": {},
   "source": [
    "# WIDGETS\n",
    "        widgets :LABEL,BUTTON,SCALE,SCROLLBAR,TEXT,MENU,MENUBAR,COMBOBOX\n",
    "        -->\n",
    "# Button\n",
    "    "
   ]
  },
  {
   "cell_type": "code",
   "execution_count": 16,
   "id": "7dde8f84",
   "metadata": {},
   "outputs": [],
   "source": [
    "from tkinter import *\n",
    "root=Tk()\n",
    "root.geometry('500x500')\n",
    "btn=Button(root,text=\"Click Me!\",bd='10',command=root.destroy) #bd=boder of 5 pixel\n",
    "# btn=Button(root,text=\"Click Me!\",bd='5',command=)\n",
    "btn.pack(side='top')\n",
    "root.mainloop()"
   ]
  },
  {
   "cell_type": "markdown",
   "id": "f0d274b8",
   "metadata": {},
   "source": [
    " # LABEL\n",
    "     the are for static data like username [______________________________]"
   ]
  },
  {
   "cell_type": "code",
   "execution_count": 17,
   "id": "6666c877",
   "metadata": {},
   "outputs": [],
   "source": [
    "# w=Label(master,option,...)\n",
    "# anchor\n",
    "# bg\n",
    "# height\n",
    "# width\n",
    "# font\n",
    "# cursor\n",
    "# bd-->boder\n",
    "# bitmap\n",
    "# ig\n",
    "# fg-->text color\n",
    "#padx \n",
    "# pady\n",
    "# justify\n",
    "#relief\n",
    "#image\n",
    "#wraplength\n",
    "#underline\n",
    "\n"
   ]
  },
  {
   "cell_type": "markdown",
   "id": "9542dc5f",
   "metadata": {},
   "source": [
    "username=Label(top,text=\"username\").place(x=40,y=40)\n",
    "\n",
    "user_password=Label(top,text=\"password\").place(x=40,y=100)\n",
    "\n",
    "submit_button=Button(top,text=\"submit\").place(x=50,y=50)\n",
    "\n",
    "user_name_input_area=Entr"
   ]
  },
  {
   "cell_type": "markdown",
   "id": "c9e7b3b9",
   "metadata": {},
   "source": [
    "# Radio Button\n",
    "\n"
   ]
  },
  {
   "cell_type": "markdown",
   "id": "cf51daaa",
   "metadata": {},
   "source": [
    "--> one of the many option\n",
    "\n",
    "Button=Radiobutton(master,tetx=\"name or button\",variable=\"shared variable\" , value= \"Values of each button\", options=values....)\n",
    "shared variable=a tkinker variable shared among all radio buttons\n",
    "value=each radio button should have different value otherwise more function destroy()\n",
    "mainloop()"
   ]
  },
  {
   "cell_type": "markdown",
   "id": "1f11831b",
   "metadata": {},
   "source": [
    "w=stringVar(master,\"1\")\n",
    "\n",
    "values=(\"RadioButton1\":'1',\"RadioButton2\":\"2,\"RadioButton3\":\"3\")\n",
    "\n",
    "for (text,value )in values.items():\n",
    "\n",
    "Radio"
   ]
  },
  {
   "cell_type": "markdown",
   "id": "f4d023ea",
   "metadata": {},
   "source": [
    "# check Button"
   ]
  },
  {
   "cell_type": "markdown",
   "id": "b8fd49f2",
   "metadata": {},
   "source": [
    "w=checkButton(master,options)\n",
    "\n",
    "--> for multiple inputs like choosing 2 or mre options\n",
    "\n",
    "# sub functions of check button \n",
    "\n",
    "    deselect()\n",
    "    flash()\n",
    "    involve()\n",
    "    select()\n",
    "    toggle()"
   ]
  },
  {
   "cell_type": "markdown",
   "id": "89942565",
   "metadata": {},
   "source": [
    "# CANVAS WIDGET\n",
    "    C=canvas(root,height,width,bd,bg,..)"
   ]
  },
  {
   "cell_type": "markdown",
   "id": "62f93a2f",
   "metadata": {},
   "source": [
    "#  owal\n",
    "o=c.create_owal(x0,y0,x1,y1,options)\n",
    "# arc\n",
    "arc=c.create_arc(20,50,190,240,start=0,extent=110,fill=\"red\")\n",
    "# line\n",
    "line =c.create_line(x0,y0,x1,y1,....,xn,yn,options)\n",
    "# polygon\n",
    " k=c.create_polygon()\n",
    " "
   ]
  },
  {
   "cell_type": "markdown",
   "id": "8858b9a7",
   "metadata": {},
   "source": [
    "C=Canvas(root,bg=\"yellow\",height=250,width=300)\n",
    "\n",
    "line=C.create_line(108,120,320,40,fill=\"green\")\n",
    "\n",
    "arc=c.create_arc"
   ]
  },
  {
   "cell_type": "markdown",
   "id": "45727b2b",
   "metadata": {},
   "source": [
    "# combobox\n",
    "    [drop down ]\n",
    "    combo=tk.combobox(root[master],options..)\n",
    "    \n",
    "        "
   ]
  },
  {
   "cell_type": "markdown",
   "id": "2a0fc69e",
   "metadata": {},
   "source": [
    "# entry widget\n",
    "    entry =tk.Entry(parent,options)\n",
    "    \n",
    "    -->textvariable**\n",
    "    "
   ]
  },
  {
   "cell_type": "markdown",
   "id": "c17a2749",
   "metadata": {},
   "source": [
    "# Methods\n",
    "    # get()\n",
    "    # delete()\n",
    "    # insert()"
   ]
  },
  {
   "cell_type": "markdown",
   "id": "e830d5d0",
   "metadata": {},
   "source": [
    "#passw_entry=tk.Entry(root,textvariable=passw_var,font=('calibre',10,'normal'),show=\"*\")\n"
   ]
  },
  {
   "cell_type": "markdown",
   "id": "ea724b16",
   "metadata": {},
   "source": [
    "# Text widget\n",
    "    t=Text(root,bg,fg,bd,height,width,font,...)\n",
    "    "
   ]
  },
  {
   "cell_type": "markdown",
   "id": "df42b197",
   "metadata": {},
   "source": [
    "index(index)\n",
    "\n",
    "inser(index)\n",
    "\n",
    "see(index)"
   ]
  },
  {
   "cell_type": "code",
   "execution_count": null,
   "id": "0afeda78",
   "metadata": {},
   "outputs": [],
   "source": []
  }
 ],
 "metadata": {
  "kernelspec": {
   "display_name": "Python 3 (ipykernel)",
   "language": "python",
   "name": "python3"
  },
  "language_info": {
   "codemirror_mode": {
    "name": "ipython",
    "version": 3
   },
   "file_extension": ".py",
   "mimetype": "text/x-python",
   "name": "python",
   "nbconvert_exporter": "python",
   "pygments_lexer": "ipython3",
   "version": "3.9.12"
  }
 },
 "nbformat": 4,
 "nbformat_minor": 5
}
