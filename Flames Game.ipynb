{
 "cells": [
  {
   "cell_type": "code",
   "execution_count": 1,
   "id": "44d825d3",
   "metadata": {},
   "outputs": [],
   "source": [
    "from tkinter import *"
   ]
  },
  {
   "cell_type": "code",
   "execution_count": 18,
   "id": "2f9974bd",
   "metadata": {},
   "outputs": [],
   "source": [
    "root=Tk()\n",
    "\n",
    "def flames():\n",
    "    p1=per1.get()\n",
    "    p2=per2.get()\n",
    "    p1.replace(\" \",\"\")\n",
    "    p2.replace(\" \",\"\")\n",
    "    x=list(p1)\n",
    "    y=list(p2)\n",
    "    for i in x:\n",
    "        if i in y:\n",
    "            x.remove(i)\n",
    "            y.remove(i)\n",
    "            \n",
    "    c=len(x)+len(y)\n",
    "    result=[\"Friends😻\",\"Lovers💜💙\",\"Affection💕\",\"Marriage💑💜\",\"Enemies🤯😮‍💨\",\"Siblings😵‍💫😵‍💫\"]\n",
    "\n",
    "    while len(result)>1:\n",
    "        index=c%len(result)-1\n",
    "        if index>=0:\n",
    "            right=result[index+1:]\n",
    "            left=result[:index]\n",
    "            result=right+left\n",
    "        else:\n",
    "            result=result[1:len(result)]\n",
    "    Label(root,text=result,fg=\"#76448A\",font=(\"Courier\", 30)).place(x=250,y=400)\n",
    "    \n",
    "    \n",
    "    \n",
    "    \n",
    "\n",
    "\n",
    "\n",
    "\n",
    "root.geometry('600x600')\n",
    "root.title(\"FLAMES GAME\")\n",
    "per1=StringVar()\n",
    "per2=StringVar()\n",
    "title=Label(root,text=\"FLAMES GAME\",fg=\"purple\").place(x=250,y=50)\n",
    "per1_label=Label(root,text=\"First Person Name\",fg=\"blue\").place(x=50,y=200)\n",
    "per2_label=Label(root,text=\"Second Person Name\",fg=\"blue\").place(x=50,y=300)\n",
    "\n",
    "p1_entry=Entry(root,width=50,textvariable=per1).place(x=200,y=200)\n",
    "p2_entry=Entry(root,width=50,textvariable=per2).place(x=200,y=300)\n",
    "\n",
    "button=Button(root,text=\"CLICK TO GET YOUR RELATION\",fg=\"#FF5733\",bd=10,command=flames).place(x=250,y=500)\n",
    "root.mainloop()"
   ]
  },
  {
   "cell_type": "code",
   "execution_count": null,
   "id": "3b8992fe",
   "metadata": {},
   "outputs": [],
   "source": []
  }
 ],
 "metadata": {
  "kernelspec": {
   "display_name": "Python 3 (ipykernel)",
   "language": "python",
   "name": "python3"
  },
  "language_info": {
   "codemirror_mode": {
    "name": "ipython",
    "version": 3
   },
   "file_extension": ".py",
   "mimetype": "text/x-python",
   "name": "python",
   "nbconvert_exporter": "python",
   "pygments_lexer": "ipython3",
   "version": "3.9.12"
  }
 },
 "nbformat": 4,
 "nbformat_minor": 5
}
