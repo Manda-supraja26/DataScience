{
 "cells": [
  {
   "cell_type": "markdown",
   "id": "78fa0e30",
   "metadata": {},
   "source": [
    "def sum():\n",
    "    int1=n1.get()\n",
    "    int2=n2.get()\n",
    "    sum=int(int1)+int(int2)\n",
    "    label=Label.configure(text=sum)\n",
    "num1=Stringvar"
   ]
  },
  {
   "cell_type": "code",
   "execution_count": 2,
   "id": "8c593303",
   "metadata": {
    "scrolled": true
   },
   "outputs": [
    {
     "ename": "NameError",
     "evalue": "name 'Stringvar' is not defined",
     "output_type": "error",
     "traceback": [
      "\u001b[1;31m---------------------------------------------------------------------------\u001b[0m",
      "\u001b[1;31mNameError\u001b[0m                                 Traceback (most recent call last)",
      "Input \u001b[1;32mIn [2]\u001b[0m, in \u001b[0;36m<cell line: 1>\u001b[1;34m()\u001b[0m\n\u001b[1;32m----> 1\u001b[0m num1\u001b[38;5;241m=\u001b[39m\u001b[43mStringvar\u001b[49m\n",
      "\u001b[1;31mNameError\u001b[0m: name 'Stringvar' is not defined"
     ]
    }
   ],
   "source": [
    "num1=Stringvar"
   ]
  },
  {
   "cell_type": "code",
   "execution_count": null,
   "id": "7f8c4334",
   "metadata": {},
   "outputs": [],
   "source": [
    "from tkinter import \n",
    "#  for images pillow\n",
    "root=Tk()\n",
    "root.geometry('400x400')\n",
    "bg=PhotoImage(file=\"your_image.png\")\n",
    "label=Label(root,image=bg)\n",
    "label.place(x=0,y=0)"
   ]
  }
 ],
 "metadata": {
  "kernelspec": {
   "display_name": "Python 3 (ipykernel)",
   "language": "python",
   "name": "python3"
  },
  "language_info": {
   "codemirror_mode": {
    "name": "ipython",
    "version": 3
   },
   "file_extension": ".py",
   "mimetype": "text/x-python",
   "name": "python",
   "nbconvert_exporter": "python",
   "pygments_lexer": "ipython3",
   "version": "3.9.12"
  }
 },
 "nbformat": 4,
 "nbformat_minor": 5
}
